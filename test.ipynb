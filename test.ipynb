{
 "cells": [
  {
   "cell_type": "code",
   "execution_count": 2,
   "metadata": {},
   "outputs": [],
   "source": [
    "from BankNotes import BankNote"
   ]
  },
  {
   "cell_type": "code",
   "execution_count": 3,
   "metadata": {},
   "outputs": [
    {
     "ename": "AttributeError",
     "evalue": "variance",
     "output_type": "error",
     "traceback": [
      "\u001b[1;31m---------------------------------------------------------------------------\u001b[0m",
      "\u001b[1;31mAttributeError\u001b[0m                            Traceback (most recent call last)",
      "Cell \u001b[1;32mIn[3], line 2\u001b[0m\n\u001b[0;32m      1\u001b[0m data_list \u001b[38;5;241m=\u001b[39m [\n\u001b[1;32m----> 2\u001b[0m         \u001b[43mBankNote\u001b[49m\u001b[38;5;241;43m.\u001b[39;49m\u001b[43mvariance\u001b[49m,\n\u001b[0;32m      3\u001b[0m         BankNote\u001b[38;5;241m.\u001b[39mskewness,\n\u001b[0;32m      4\u001b[0m         BankNote\u001b[38;5;241m.\u001b[39mcurtosis,\n\u001b[0;32m      5\u001b[0m         BankNote\u001b[38;5;241m.\u001b[39mentropy\n\u001b[0;32m      6\u001b[0m     ]\n",
      "File \u001b[1;32mc:\\Users\\BS462NK\\OneDrive - Deere & Co\\Documents\\Self Projects\\BankNote_classification\\hrushi\\lib\\site-packages\\pydantic\\_internal\\_model_construction.py:237\u001b[0m, in \u001b[0;36mModelMetaclass.__getattr__\u001b[1;34m(self, item)\u001b[0m\n\u001b[0;32m    235\u001b[0m \u001b[38;5;28;01mif\u001b[39;00m private_attributes \u001b[38;5;129;01mand\u001b[39;00m item \u001b[38;5;129;01min\u001b[39;00m private_attributes:\n\u001b[0;32m    236\u001b[0m     \u001b[38;5;28;01mreturn\u001b[39;00m private_attributes[item]\n\u001b[1;32m--> 237\u001b[0m \u001b[38;5;28;01mraise\u001b[39;00m \u001b[38;5;167;01mAttributeError\u001b[39;00m(item)\n",
      "\u001b[1;31mAttributeError\u001b[0m: variance"
     ]
    }
   ],
   "source": [
    "data_list = [\n",
    "        BankNote.variance,\n",
    "        BankNote.skewness,\n",
    "        BankNote.curtosis,\n",
    "        BankNote.entropy\n",
    "    ]"
   ]
  },
  {
   "cell_type": "code",
   "execution_count": null,
   "metadata": {},
   "outputs": [],
   "source": []
  }
 ],
 "metadata": {
  "kernelspec": {
   "display_name": "hrushi",
   "language": "python",
   "name": "python3"
  },
  "language_info": {
   "codemirror_mode": {
    "name": "ipython",
    "version": 3
   },
   "file_extension": ".py",
   "mimetype": "text/x-python",
   "name": "python",
   "nbconvert_exporter": "python",
   "pygments_lexer": "ipython3",
   "version": "3.10.14"
  }
 },
 "nbformat": 4,
 "nbformat_minor": 2
}
